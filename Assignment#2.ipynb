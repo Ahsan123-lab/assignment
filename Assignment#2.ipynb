{
 "cells": [
  {
   "cell_type": "code",
   "execution_count": 2,
   "metadata": {},
   "outputs": [
    {
     "name": "stdout",
     "output_type": "stream",
     "text": [
      "SUBJECT NUMBER 1\n",
      "Enter marks200\n",
      "MARKS CAN'T BE GREATER THAN 100!\n",
      "Enter marks83\n",
      "SUBJECT NUMBER 2\n",
      "Enter marks88\n",
      "SUBJECT NUMBER 3\n",
      "Enter marks98\n",
      "SUBJECT NUMBER 4\n",
      "Enter marks79\n",
      "SUBJECT NUMBER 5\n",
      "Enter marks90\n",
      "PERCENTAGE: 87.6\n",
      "Grade: B\n"
     ]
    }
   ],
   "source": [
    "total=0\n",
    "arr = [ ]\n",
    "i=1\n",
    "def marks():\n",
    " mark=-1\n",
    " print(\"SUBJECT NUMBER\",i+1) \n",
    " while mark not in range(101):\n",
    " \n",
    "  mark=int(input(\"Enter marks\"))\n",
    "  if(mark>100):\n",
    "   print(\"MARKS CAN'T BE GREATER THAN 100!\")\n",
    " return mark\n",
    "for i in range(5):\n",
    " \n",
    " arr.append(marks())     \n",
    " \n",
    "    \n",
    "for i in range(5):\n",
    " total+=arr[i]\n",
    " avg=(total/500)*100\n",
    "print(\"PERCENTAGE:\",avg)\n",
    "if(avg>=90):\n",
    "    print(\"Grade: A\")\n",
    "elif(avg>=80 and avg<90):\n",
    "    print(\"Grade: B\")\n",
    "elif(avg>=70 and avg<80):\n",
    "    print(\"Grade: C\")\n",
    "elif(avg>=60 and avg<70):\n",
    "    print(\"Grade: D\")\n",
    "else:\n",
    "    print(\"Grade: F\")"
   ]
  },
  {
   "cell_type": "code",
   "execution_count": null,
   "metadata": {},
   "outputs": [
    {
     "name": "stdout",
     "output_type": "stream",
     "text": [
      "Enter a Number3\n",
      "Odd Number\n",
      "Enter a Number4\n",
      "Even Number\n",
      "Enter a Number6\n",
      "Even Number\n"
     ]
    }
   ],
   "source": [
    "z=1\n",
    "while z in range(3):\n",
    " num=int(input(\"Enter a Number\"))\n",
    " if num%2==0:\n",
    "  print(\"Even Number\")\n",
    " else:\n",
    "  print(\"Odd Number\")\n",
    "    "
   ]
  },
  {
   "cell_type": "code",
   "execution_count": 3,
   "metadata": {},
   "outputs": [
    {
     "name": "stdout",
     "output_type": "stream",
     "text": [
      "The length of given list is: 7\n"
     ]
    }
   ],
   "source": [
    "arr={2,4,5,55,11,10,45}\n",
    "print(\"The length of given list is:\",len(arr))"
   ]
  },
  {
   "cell_type": "code",
   "execution_count": 1,
   "metadata": {},
   "outputs": [
    {
     "name": "stdout",
     "output_type": "stream",
     "text": [
      "The sum of given list is: 132\n"
     ]
    }
   ],
   "source": [
    "arr=[2,4,5,55,11,10,45]\n",
    "sum=0\n",
    "for i in range(0,len(arr)):\n",
    " sum+=arr[i]\n",
    "print(\"The sum of given list is:\",sum)"
   ]
  },
  {
   "cell_type": "code",
   "execution_count": 11,
   "metadata": {},
   "outputs": [
    {
     "name": "stdout",
     "output_type": "stream",
     "text": [
      "Largest number in list 55\n"
     ]
    }
   ],
   "source": [
    "arr=[2,4,5,55,11,10,45]\n",
    "print(\"Largest number in list is:\",max(arr))"
   ]
  },
  {
   "cell_type": "code",
   "execution_count": 21,
   "metadata": {},
   "outputs": [
    {
     "name": "stdout",
     "output_type": "stream",
     "text": [
      "Number less then 5:\n",
      "1\n",
      "2\n",
      "3\n",
      "4\n"
     ]
    }
   ],
   "source": [
    "arr=[1,2,3,4,5,55,11,10,45]\n",
    "print(\"Number less then 5:\")\n",
    "for i in range(0,len(arr)):\n",
    " if arr[i]<5:\n",
    "  print(arr[i])"
   ]
  },
  {
   "cell_type": "code",
   "execution_count": null,
   "metadata": {},
   "outputs": [],
   "source": []
  },
  {
   "cell_type": "code",
   "execution_count": null,
   "metadata": {},
   "outputs": [],
   "source": []
  },
  {
   "cell_type": "code",
   "execution_count": null,
   "metadata": {},
   "outputs": [],
   "source": []
  },
  {
   "cell_type": "code",
   "execution_count": null,
   "metadata": {},
   "outputs": [],
   "source": []
  },
  {
   "cell_type": "code",
   "execution_count": null,
   "metadata": {},
   "outputs": [],
   "source": []
  }
 ],
 "metadata": {
  "kernelspec": {
   "display_name": "Python 3",
   "language": "python",
   "name": "python3"
  },
  "language_info": {
   "codemirror_mode": {
    "name": "ipython",
    "version": 3
   },
   "file_extension": ".py",
   "mimetype": "text/x-python",
   "name": "python",
   "nbconvert_exporter": "python",
   "pygments_lexer": "ipython3",
   "version": "3.7.4"
  }
 },
 "nbformat": 4,
 "nbformat_minor": 2
}
